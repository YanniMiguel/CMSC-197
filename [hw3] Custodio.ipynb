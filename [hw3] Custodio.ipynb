{
 "cells": [
  {
   "cell_type": "markdown",
   "id": "419ddf41",
   "metadata": {},
   "source": [
    "# CMSC 197 Problem Set\n",
    "\n",
    "Adrian Miguel Custodio"
   ]
  },
  {
   "cell_type": "code",
   "execution_count": 1,
   "id": "a124bbf5-7a54-4f6f-b43c-2f7b17316a6d",
   "metadata": {},
   "outputs": [],
   "source": [
    "##### Standard Libraries #####\n",
    "import numpy as np\n",
    "import pandas as pd\n",
    "import matplotlib.pyplot as plt\n",
    "\n",
    "%matplotlib inline\n",
    "\n",
    "##### For Preprocessing #####\n",
    "from sklearn.model_selection import train_test_split\n",
    "from sklearn.preprocessing import scale\n",
    "\n",
    "##### For Buildin and Validation of the Model #####\n",
    "from sklearn.linear_model import LinearRegression\n",
    "from sklearn.metrics import r2_score, mean_absolute_error, mean_squared_error\n",
    "\n",
    "\n"
   ]
  },
  {
   "cell_type": "markdown",
   "id": "17f33325",
   "metadata": {},
   "source": [
    "# 1. Load Advertising.csv dataset using pandas\n",
    "\n"
   ]
  },
  {
   "cell_type": "code",
   "execution_count": 2,
   "id": "04f5deeb-9f42-4d5f-96bd-ad83a0035734",
   "metadata": {
    "scrolled": true
   },
   "outputs": [
    {
     "data": {
      "text/html": [
       "<div>\n",
       "<style scoped>\n",
       "    .dataframe tbody tr th:only-of-type {\n",
       "        vertical-align: middle;\n",
       "    }\n",
       "\n",
       "    .dataframe tbody tr th {\n",
       "        vertical-align: top;\n",
       "    }\n",
       "\n",
       "    .dataframe thead th {\n",
       "        text-align: right;\n",
       "    }\n",
       "</style>\n",
       "<table border=\"1\" class=\"dataframe\">\n",
       "  <thead>\n",
       "    <tr style=\"text-align: right;\">\n",
       "      <th></th>\n",
       "      <th>TV</th>\n",
       "      <th>Radio</th>\n",
       "      <th>Newspaper</th>\n",
       "      <th>Sales</th>\n",
       "    </tr>\n",
       "  </thead>\n",
       "  <tbody>\n",
       "    <tr>\n",
       "      <th>1</th>\n",
       "      <td>230.1</td>\n",
       "      <td>37.8</td>\n",
       "      <td>69.2</td>\n",
       "      <td>22.1</td>\n",
       "    </tr>\n",
       "    <tr>\n",
       "      <th>2</th>\n",
       "      <td>44.5</td>\n",
       "      <td>39.3</td>\n",
       "      <td>45.1</td>\n",
       "      <td>10.4</td>\n",
       "    </tr>\n",
       "    <tr>\n",
       "      <th>3</th>\n",
       "      <td>17.2</td>\n",
       "      <td>45.9</td>\n",
       "      <td>69.3</td>\n",
       "      <td>9.3</td>\n",
       "    </tr>\n",
       "    <tr>\n",
       "      <th>4</th>\n",
       "      <td>151.5</td>\n",
       "      <td>41.3</td>\n",
       "      <td>58.5</td>\n",
       "      <td>18.5</td>\n",
       "    </tr>\n",
       "    <tr>\n",
       "      <th>5</th>\n",
       "      <td>180.8</td>\n",
       "      <td>10.8</td>\n",
       "      <td>58.4</td>\n",
       "      <td>12.9</td>\n",
       "    </tr>\n",
       "  </tbody>\n",
       "</table>\n",
       "</div>"
      ],
      "text/plain": [
       "      TV  Radio  Newspaper  Sales\n",
       "1  230.1   37.8       69.2   22.1\n",
       "2   44.5   39.3       45.1   10.4\n",
       "3   17.2   45.9       69.3    9.3\n",
       "4  151.5   41.3       58.5   18.5\n",
       "5  180.8   10.8       58.4   12.9"
      ]
     },
     "execution_count": 2,
     "metadata": {},
     "output_type": "execute_result"
    }
   ],
   "source": [
    "# Load the data\n",
    "df = pd.read_csv(\"Advertising.csv\", index_col = 0)\n",
    "df.head()"
   ]
  },
  {
   "cell_type": "code",
   "execution_count": 3,
   "id": "5945433c",
   "metadata": {},
   "outputs": [
    {
     "data": {
      "text/html": [
       "<div>\n",
       "<style scoped>\n",
       "    .dataframe tbody tr th:only-of-type {\n",
       "        vertical-align: middle;\n",
       "    }\n",
       "\n",
       "    .dataframe tbody tr th {\n",
       "        vertical-align: top;\n",
       "    }\n",
       "\n",
       "    .dataframe thead th {\n",
       "        text-align: right;\n",
       "    }\n",
       "</style>\n",
       "<table border=\"1\" class=\"dataframe\">\n",
       "  <thead>\n",
       "    <tr style=\"text-align: right;\">\n",
       "      <th></th>\n",
       "      <th>TV</th>\n",
       "      <th>Radio</th>\n",
       "      <th>Newspaper</th>\n",
       "      <th>Sales</th>\n",
       "    </tr>\n",
       "  </thead>\n",
       "  <tbody>\n",
       "    <tr>\n",
       "      <th>count</th>\n",
       "      <td>200.000000</td>\n",
       "      <td>200.000000</td>\n",
       "      <td>200.000000</td>\n",
       "      <td>200.000000</td>\n",
       "    </tr>\n",
       "    <tr>\n",
       "      <th>mean</th>\n",
       "      <td>147.042500</td>\n",
       "      <td>23.264000</td>\n",
       "      <td>30.554000</td>\n",
       "      <td>14.022500</td>\n",
       "    </tr>\n",
       "    <tr>\n",
       "      <th>std</th>\n",
       "      <td>85.854236</td>\n",
       "      <td>14.846809</td>\n",
       "      <td>21.778621</td>\n",
       "      <td>5.217457</td>\n",
       "    </tr>\n",
       "    <tr>\n",
       "      <th>min</th>\n",
       "      <td>0.700000</td>\n",
       "      <td>0.000000</td>\n",
       "      <td>0.300000</td>\n",
       "      <td>1.600000</td>\n",
       "    </tr>\n",
       "    <tr>\n",
       "      <th>25%</th>\n",
       "      <td>74.375000</td>\n",
       "      <td>9.975000</td>\n",
       "      <td>12.750000</td>\n",
       "      <td>10.375000</td>\n",
       "    </tr>\n",
       "    <tr>\n",
       "      <th>50%</th>\n",
       "      <td>149.750000</td>\n",
       "      <td>22.900000</td>\n",
       "      <td>25.750000</td>\n",
       "      <td>12.900000</td>\n",
       "    </tr>\n",
       "    <tr>\n",
       "      <th>75%</th>\n",
       "      <td>218.825000</td>\n",
       "      <td>36.525000</td>\n",
       "      <td>45.100000</td>\n",
       "      <td>17.400000</td>\n",
       "    </tr>\n",
       "    <tr>\n",
       "      <th>max</th>\n",
       "      <td>296.400000</td>\n",
       "      <td>49.600000</td>\n",
       "      <td>114.000000</td>\n",
       "      <td>27.000000</td>\n",
       "    </tr>\n",
       "  </tbody>\n",
       "</table>\n",
       "</div>"
      ],
      "text/plain": [
       "               TV       Radio   Newspaper       Sales\n",
       "count  200.000000  200.000000  200.000000  200.000000\n",
       "mean   147.042500   23.264000   30.554000   14.022500\n",
       "std     85.854236   14.846809   21.778621    5.217457\n",
       "min      0.700000    0.000000    0.300000    1.600000\n",
       "25%     74.375000    9.975000   12.750000   10.375000\n",
       "50%    149.750000   22.900000   25.750000   12.900000\n",
       "75%    218.825000   36.525000   45.100000   17.400000\n",
       "max    296.400000   49.600000  114.000000   27.000000"
      ]
     },
     "execution_count": 3,
     "metadata": {},
     "output_type": "execute_result"
    }
   ],
   "source": [
    "# Get summary of statistics of the data\n",
    "df.describe()"
   ]
  },
  {
   "cell_type": "markdown",
   "id": "1b1b2789",
   "metadata": {},
   "source": [
    "# 2. Standardize each column of the dataset"
   ]
  },
  {
   "cell_type": "code",
   "execution_count": 4,
   "id": "dfb2e2b6",
   "metadata": {},
   "outputs": [
    {
     "data": {
      "text/html": [
       "<div>\n",
       "<style scoped>\n",
       "    .dataframe tbody tr th:only-of-type {\n",
       "        vertical-align: middle;\n",
       "    }\n",
       "\n",
       "    .dataframe tbody tr th {\n",
       "        vertical-align: top;\n",
       "    }\n",
       "\n",
       "    .dataframe thead th {\n",
       "        text-align: right;\n",
       "    }\n",
       "</style>\n",
       "<table border=\"1\" class=\"dataframe\">\n",
       "  <thead>\n",
       "    <tr style=\"text-align: right;\">\n",
       "      <th></th>\n",
       "      <th>TV</th>\n",
       "      <th>Radio</th>\n",
       "      <th>Newspaper</th>\n",
       "      <th>Sales</th>\n",
       "    </tr>\n",
       "  </thead>\n",
       "  <tbody>\n",
       "    <tr>\n",
       "      <th>0</th>\n",
       "      <td>0.969852</td>\n",
       "      <td>0.981522</td>\n",
       "      <td>1.778945</td>\n",
       "      <td>1.552053</td>\n",
       "    </tr>\n",
       "    <tr>\n",
       "      <th>1</th>\n",
       "      <td>-1.197376</td>\n",
       "      <td>1.082808</td>\n",
       "      <td>0.669579</td>\n",
       "      <td>-0.696046</td>\n",
       "    </tr>\n",
       "    <tr>\n",
       "      <th>2</th>\n",
       "      <td>-1.516155</td>\n",
       "      <td>1.528463</td>\n",
       "      <td>1.783549</td>\n",
       "      <td>-0.907406</td>\n",
       "    </tr>\n",
       "    <tr>\n",
       "      <th>3</th>\n",
       "      <td>0.052050</td>\n",
       "      <td>1.217855</td>\n",
       "      <td>1.286405</td>\n",
       "      <td>0.860330</td>\n",
       "    </tr>\n",
       "    <tr>\n",
       "      <th>4</th>\n",
       "      <td>0.394182</td>\n",
       "      <td>-0.841614</td>\n",
       "      <td>1.281802</td>\n",
       "      <td>-0.215683</td>\n",
       "    </tr>\n",
       "    <tr>\n",
       "      <th>...</th>\n",
       "      <td>...</td>\n",
       "      <td>...</td>\n",
       "      <td>...</td>\n",
       "      <td>...</td>\n",
       "    </tr>\n",
       "    <tr>\n",
       "      <th>195</th>\n",
       "      <td>-1.270941</td>\n",
       "      <td>-1.321031</td>\n",
       "      <td>-0.771217</td>\n",
       "      <td>-1.234053</td>\n",
       "    </tr>\n",
       "    <tr>\n",
       "      <th>196</th>\n",
       "      <td>-0.617035</td>\n",
       "      <td>-1.240003</td>\n",
       "      <td>-1.033598</td>\n",
       "      <td>-0.830548</td>\n",
       "    </tr>\n",
       "    <tr>\n",
       "      <th>197</th>\n",
       "      <td>0.349810</td>\n",
       "      <td>-0.942899</td>\n",
       "      <td>-1.111852</td>\n",
       "      <td>-0.234898</td>\n",
       "    </tr>\n",
       "    <tr>\n",
       "      <th>198</th>\n",
       "      <td>1.594565</td>\n",
       "      <td>1.265121</td>\n",
       "      <td>1.640850</td>\n",
       "      <td>2.205347</td>\n",
       "    </tr>\n",
       "    <tr>\n",
       "      <th>199</th>\n",
       "      <td>0.993206</td>\n",
       "      <td>-0.990165</td>\n",
       "      <td>-1.005979</td>\n",
       "      <td>-0.119610</td>\n",
       "    </tr>\n",
       "  </tbody>\n",
       "</table>\n",
       "<p>200 rows × 4 columns</p>\n",
       "</div>"
      ],
      "text/plain": [
       "           TV     Radio  Newspaper     Sales\n",
       "0    0.969852  0.981522   1.778945  1.552053\n",
       "1   -1.197376  1.082808   0.669579 -0.696046\n",
       "2   -1.516155  1.528463   1.783549 -0.907406\n",
       "3    0.052050  1.217855   1.286405  0.860330\n",
       "4    0.394182 -0.841614   1.281802 -0.215683\n",
       "..        ...       ...        ...       ...\n",
       "195 -1.270941 -1.321031  -0.771217 -1.234053\n",
       "196 -0.617035 -1.240003  -1.033598 -0.830548\n",
       "197  0.349810 -0.942899  -1.111852 -0.234898\n",
       "198  1.594565  1.265121   1.640850  2.205347\n",
       "199  0.993206 -0.990165  -1.005979 -0.119610\n",
       "\n",
       "[200 rows x 4 columns]"
      ]
     },
     "execution_count": 4,
     "metadata": {},
     "output_type": "execute_result"
    }
   ],
   "source": [
    "#Using dataframe to look more presentable\n",
    "#scale(df) is used to standardize the tables\n",
    "\n",
    "df_stndrdzd = pd.DataFrame(scale (df), columns=df.columns)\n",
    "df_stndrdzd"
   ]
  },
  {
   "cell_type": "markdown",
   "id": "4eb1ef5f",
   "metadata": {},
   "source": [
    "# 3. Add extra column of ones"
   ]
  },
  {
   "cell_type": "code",
   "execution_count": 5,
   "id": "3fc7dc50",
   "metadata": {},
   "outputs": [
    {
     "data": {
      "text/html": [
       "<div>\n",
       "<style scoped>\n",
       "    .dataframe tbody tr th:only-of-type {\n",
       "        vertical-align: middle;\n",
       "    }\n",
       "\n",
       "    .dataframe tbody tr th {\n",
       "        vertical-align: top;\n",
       "    }\n",
       "\n",
       "    .dataframe thead th {\n",
       "        text-align: right;\n",
       "    }\n",
       "</style>\n",
       "<table border=\"1\" class=\"dataframe\">\n",
       "  <thead>\n",
       "    <tr style=\"text-align: right;\">\n",
       "      <th></th>\n",
       "      <th>bias</th>\n",
       "      <th>TV</th>\n",
       "      <th>Radio</th>\n",
       "      <th>Newspaper</th>\n",
       "      <th>Sales</th>\n",
       "    </tr>\n",
       "  </thead>\n",
       "  <tbody>\n",
       "    <tr>\n",
       "      <th>0</th>\n",
       "      <td>1</td>\n",
       "      <td>0.969852</td>\n",
       "      <td>0.981522</td>\n",
       "      <td>1.778945</td>\n",
       "      <td>1.552053</td>\n",
       "    </tr>\n",
       "    <tr>\n",
       "      <th>1</th>\n",
       "      <td>1</td>\n",
       "      <td>-1.197376</td>\n",
       "      <td>1.082808</td>\n",
       "      <td>0.669579</td>\n",
       "      <td>-0.696046</td>\n",
       "    </tr>\n",
       "    <tr>\n",
       "      <th>2</th>\n",
       "      <td>1</td>\n",
       "      <td>-1.516155</td>\n",
       "      <td>1.528463</td>\n",
       "      <td>1.783549</td>\n",
       "      <td>-0.907406</td>\n",
       "    </tr>\n",
       "    <tr>\n",
       "      <th>3</th>\n",
       "      <td>1</td>\n",
       "      <td>0.052050</td>\n",
       "      <td>1.217855</td>\n",
       "      <td>1.286405</td>\n",
       "      <td>0.860330</td>\n",
       "    </tr>\n",
       "    <tr>\n",
       "      <th>4</th>\n",
       "      <td>1</td>\n",
       "      <td>0.394182</td>\n",
       "      <td>-0.841614</td>\n",
       "      <td>1.281802</td>\n",
       "      <td>-0.215683</td>\n",
       "    </tr>\n",
       "    <tr>\n",
       "      <th>...</th>\n",
       "      <td>...</td>\n",
       "      <td>...</td>\n",
       "      <td>...</td>\n",
       "      <td>...</td>\n",
       "      <td>...</td>\n",
       "    </tr>\n",
       "    <tr>\n",
       "      <th>195</th>\n",
       "      <td>1</td>\n",
       "      <td>-1.270941</td>\n",
       "      <td>-1.321031</td>\n",
       "      <td>-0.771217</td>\n",
       "      <td>-1.234053</td>\n",
       "    </tr>\n",
       "    <tr>\n",
       "      <th>196</th>\n",
       "      <td>1</td>\n",
       "      <td>-0.617035</td>\n",
       "      <td>-1.240003</td>\n",
       "      <td>-1.033598</td>\n",
       "      <td>-0.830548</td>\n",
       "    </tr>\n",
       "    <tr>\n",
       "      <th>197</th>\n",
       "      <td>1</td>\n",
       "      <td>0.349810</td>\n",
       "      <td>-0.942899</td>\n",
       "      <td>-1.111852</td>\n",
       "      <td>-0.234898</td>\n",
       "    </tr>\n",
       "    <tr>\n",
       "      <th>198</th>\n",
       "      <td>1</td>\n",
       "      <td>1.594565</td>\n",
       "      <td>1.265121</td>\n",
       "      <td>1.640850</td>\n",
       "      <td>2.205347</td>\n",
       "    </tr>\n",
       "    <tr>\n",
       "      <th>199</th>\n",
       "      <td>1</td>\n",
       "      <td>0.993206</td>\n",
       "      <td>-0.990165</td>\n",
       "      <td>-1.005979</td>\n",
       "      <td>-0.119610</td>\n",
       "    </tr>\n",
       "  </tbody>\n",
       "</table>\n",
       "<p>200 rows × 5 columns</p>\n",
       "</div>"
      ],
      "text/plain": [
       "     bias        TV     Radio  Newspaper     Sales\n",
       "0       1  0.969852  0.981522   1.778945  1.552053\n",
       "1       1 -1.197376  1.082808   0.669579 -0.696046\n",
       "2       1 -1.516155  1.528463   1.783549 -0.907406\n",
       "3       1  0.052050  1.217855   1.286405  0.860330\n",
       "4       1  0.394182 -0.841614   1.281802 -0.215683\n",
       "..    ...       ...       ...        ...       ...\n",
       "195     1 -1.270941 -1.321031  -0.771217 -1.234053\n",
       "196     1 -0.617035 -1.240003  -1.033598 -0.830548\n",
       "197     1  0.349810 -0.942899  -1.111852 -0.234898\n",
       "198     1  1.594565  1.265121   1.640850  2.205347\n",
       "199     1  0.993206 -0.990165  -1.005979 -0.119610\n",
       "\n",
       "[200 rows x 5 columns]"
      ]
     },
     "execution_count": 5,
     "metadata": {},
     "output_type": "execute_result"
    }
   ],
   "source": [
    "df_stndrdzd.insert(0,'bias',1)\n",
    "df_stndrdzd"
   ]
  },
  {
   "cell_type": "markdown",
   "id": "8905b9ee",
   "metadata": {},
   "source": [
    "# 4. Divide the dataset into training and testing"
   ]
  },
  {
   "cell_type": "code",
   "execution_count": 6,
   "id": "63359fe1",
   "metadata": {},
   "outputs": [
    {
     "name": "stdout",
     "output_type": "stream",
     "text": [
      "x_train size: (150, 4)\n",
      "y_train size: (150,)\n",
      "\n",
      "x_test size: (50, 4)\n",
      "y_test size: (50,)\n"
     ]
    }
   ],
   "source": [
    "#split the data into response (y) and regressors (x)\n",
    "y = df_stndrdzd['Sales']\n",
    "x = df_stndrdzd.drop(\"Sales\", axis = 1)\n",
    "\n",
    "#Divdes the dataset into 25% going to testing and 75% into training\n",
    "x_train, x_test, y_train, y_test = train_test_split(x, y, test_size=0.25,  train_size=0.75,  random_state = 10)\n",
    "\n",
    "print(\"x_train size:\", x_train.shape)\n",
    "print(\"y_train size:\", y_train.shape)\n",
    "print(\"\\nx_test size:\", x_test.shape)\n",
    "print(\"y_test size:\", y_test.shape)"
   ]
  },
  {
   "cell_type": "markdown",
   "id": "3c1be9cd",
   "metadata": {},
   "source": [
    "# 5. Fit the model on the training set"
   ]
  },
  {
   "cell_type": "markdown",
   "id": "5268297b",
   "metadata": {},
   "source": [
    "## 5.1 initialize weights"
   ]
  },
  {
   "cell_type": "code",
   "execution_count": 7,
   "id": "318b85ad",
   "metadata": {},
   "outputs": [],
   "source": [
    "def initialize_weights():\n",
    "    import random\n",
    "    random.seed(10)\n",
    "    \n",
    "    weight_array = []\n",
    "    \n",
    "    #loop to create the random weights array\n",
    "    for i in range (4):\n",
    "        r = random.uniform(0, 1)\n",
    "        weight_array.append(r)\n",
    "        \n",
    "    return np.array(weight_array)\n"
   ]
  },
  {
   "cell_type": "code",
   "execution_count": 8,
   "id": "b6627114",
   "metadata": {},
   "outputs": [
    {
     "data": {
      "text/plain": [
       "array([0.57140259, 0.42888905, 0.5780913 , 0.20609823])"
      ]
     },
     "execution_count": 8,
     "metadata": {},
     "output_type": "execute_result"
    }
   ],
   "source": [
    "initialize_weights()"
   ]
  },
  {
   "cell_type": "markdown",
   "id": "cb1d14fd",
   "metadata": {},
   "source": [
    "## 5.2 predict y"
   ]
  },
  {
   "cell_type": "code",
   "execution_count": 9,
   "id": "88193a8a",
   "metadata": {},
   "outputs": [],
   "source": [
    "#this function predicts the values by getting the dot product of the dataset and weights\n",
    "def predict(x, weights):\n",
    "    return np.dot(x, weights)"
   ]
  },
  {
   "cell_type": "markdown",
   "id": "a85f6ad9",
   "metadata": {},
   "source": [
    "## 5.3 compute_cost"
   ]
  },
  {
   "cell_type": "code",
   "execution_count": 10,
   "id": "f81b6917",
   "metadata": {},
   "outputs": [],
   "source": [
    "#this function calculates the cost using the ff. equation:\n",
    "#(1/2m)*sum((predicted y - y)**2)\n",
    "def compute_cost(y_hat, y):\n",
    "    m = len(y)\n",
    "    cost = (1/(2*m)) * np.dot((y_hat - y).T, (y_hat - y))\n",
    "    return cost"
   ]
  },
  {
   "cell_type": "markdown",
   "id": "08010de3",
   "metadata": {},
   "source": [
    "## 5.4 compute_gradient"
   ]
  },
  {
   "cell_type": "code",
   "execution_count": 44,
   "id": "93c5117f",
   "metadata": {},
   "outputs": [],
   "source": [
    "#this function computes the gradient using the ff. equation:\n",
    "#(1/m)*sum((predicted y - y)*x)\n",
    "def compute_gradient(x, y, y_hat):\n",
    "    m = len(y)\n",
    "    w = 1/m * np.dot(x.T, (y_hat - y))\n",
    "    return w\n",
    "        "
   ]
  },
  {
   "cell_type": "markdown",
   "id": "9fbc8fe3",
   "metadata": {},
   "source": [
    "## 5.5 update_weights"
   ]
  },
  {
   "cell_type": "code",
   "execution_count": 13,
   "id": "93ec34cb",
   "metadata": {},
   "outputs": [],
   "source": [
    "#function for updating weights by subrating the product of 'a' and gradient from the current weights\n",
    "def update_weights(curr_weights, a, gradient):\n",
    "    return curr_weights - (a * gradient)\n",
    "    "
   ]
  },
  {
   "cell_type": "markdown",
   "id": "35152e80",
   "metadata": {},
   "source": [
    "## 5.6 grad_descent"
   ]
  },
  {
   "cell_type": "code",
   "execution_count": 14,
   "id": "13183276",
   "metadata": {},
   "outputs": [],
   "source": [
    "#returns 2 matrices: \n",
    "# >matrix for weights\n",
    "# >matrix for costs per iteration\n",
    "\n",
    "def grad_descent(x, y, a, iterations):\n",
    "    initWeight = initialize_weights()\n",
    "    \n",
    "    #empty array for the matrices\n",
    "    costMatrix = []\n",
    "    weightsMatrix = []\n",
    "    \n",
    "    for i in range(iterations):\n",
    "        #predicted y\n",
    "        y_hat = predict(x, initWeight)\n",
    "        \n",
    "        #calculate the costs per iteration\n",
    "        cost = compute_cost(y_hat, y)\n",
    "\n",
    "        #get the gradient/derivatives\n",
    "        gradient = compute_gradient(x,y,y_hat)\n",
    "\n",
    "        #weights get updated\n",
    "        initWeight = update_weights(initWeight, a, gradient)\n",
    "        \n",
    "        costMatrix.append(cost)\n",
    "        weightsMatrix.append(initWeight)\n",
    "\n",
    "    \n",
    "    return weightsMatrix, costMatrix"
   ]
  },
  {
   "cell_type": "markdown",
   "id": "e245bed2",
   "metadata": {},
   "source": [
    "## 5.7 plot_costs"
   ]
  },
  {
   "cell_type": "code",
   "execution_count": 15,
   "id": "ffedef2c",
   "metadata": {},
   "outputs": [],
   "source": [
    "#this function is for displaying the graph of costs per iteration\n",
    "def plot_costs(costs):\n",
    "    \n",
    "    plt.xlabel('Iterations')\n",
    "    plt.ylabel('Cost')\n",
    "    \n",
    "    plt.plot(costs)\n",
    "    plt.show()"
   ]
  },
  {
   "cell_type": "markdown",
   "id": "fa5be786",
   "metadata": {},
   "source": [
    "## 5.8 Predict y for train set and calculate the cost."
   ]
  },
  {
   "cell_type": "code",
   "execution_count": 16,
   "id": "8e26ae43",
   "metadata": {},
   "outputs": [
    {
     "name": "stdout",
     "output_type": "stream",
     "text": [
      "Cost of training set:  0.2338252692581827\n"
     ]
    }
   ],
   "source": [
    "#weights are initialized to get the predicted y\n",
    "weights = initialize_weights()\n",
    "y_hat_training = predict(x_train, weights)\n",
    "\n",
    "#cost is calculated from the y hat\n",
    "train_cost = compute_cost(y_hat_training, y_train)\n",
    "print(\"Cost of training set: \", train_cost)"
   ]
  },
  {
   "cell_type": "markdown",
   "id": "335f5d02",
   "metadata": {},
   "source": [
    "## 5.9 Predict y for test set and calculate the cost."
   ]
  },
  {
   "cell_type": "code",
   "execution_count": 17,
   "id": "0bdf8d14",
   "metadata": {},
   "outputs": [
    {
     "name": "stdout",
     "output_type": "stream",
     "text": [
      "Cost of training set:  0.453296972651333\n"
     ]
    }
   ],
   "source": [
    "#same process from 5.8 is applied to the Test set\n",
    "weights = initialize_weights()\n",
    "y_hat_testing = predict(x_test, weights)\n",
    "\n",
    "test_cost = compute_cost(y_hat_testing, y_test)\n",
    "print(\"Cost of training set: \", test_cost)"
   ]
  },
  {
   "cell_type": "markdown",
   "id": "1bc340d0",
   "metadata": {},
   "source": [
    "# 6. Predict the quantitative response y on the train set."
   ]
  },
  {
   "cell_type": "code",
   "execution_count": 45,
   "id": "dc0e5850",
   "metadata": {},
   "outputs": [],
   "source": [
    "#use grad_descent to get the two matrices\n",
    "w_train, cost_train = grad_descent(x_train, y_train, 0.01, 1000)"
   ]
  },
  {
   "cell_type": "code",
   "execution_count": 47,
   "id": "449cf19a",
   "metadata": {},
   "outputs": [
    {
     "data": {
      "text/html": [
       "<div>\n",
       "<style scoped>\n",
       "    .dataframe tbody tr th:only-of-type {\n",
       "        vertical-align: middle;\n",
       "    }\n",
       "\n",
       "    .dataframe tbody tr th {\n",
       "        vertical-align: top;\n",
       "    }\n",
       "\n",
       "    .dataframe thead th {\n",
       "        text-align: right;\n",
       "    }\n",
       "</style>\n",
       "<table border=\"1\" class=\"dataframe\">\n",
       "  <thead>\n",
       "    <tr style=\"text-align: right;\">\n",
       "      <th></th>\n",
       "      <th>y_train Prediction</th>\n",
       "      <th>y_train Real</th>\n",
       "    </tr>\n",
       "  </thead>\n",
       "  <tbody>\n",
       "    <tr>\n",
       "      <th>24</th>\n",
       "      <td>-1.060423</td>\n",
       "      <td>-0.830548</td>\n",
       "    </tr>\n",
       "    <tr>\n",
       "      <th>43</th>\n",
       "      <td>-0.033073</td>\n",
       "      <td>-0.215683</td>\n",
       "    </tr>\n",
       "    <tr>\n",
       "      <th>101</th>\n",
       "      <td>1.701700</td>\n",
       "      <td>1.878700</td>\n",
       "    </tr>\n",
       "    <tr>\n",
       "      <th>163</th>\n",
       "      <td>0.685783</td>\n",
       "      <td>0.764258</td>\n",
       "    </tr>\n",
       "    <tr>\n",
       "      <th>21</th>\n",
       "      <td>0.096081</td>\n",
       "      <td>-0.292541</td>\n",
       "    </tr>\n",
       "    <tr>\n",
       "      <th>...</th>\n",
       "      <td>...</td>\n",
       "      <td>...</td>\n",
       "    </tr>\n",
       "    <tr>\n",
       "      <th>113</th>\n",
       "      <td>0.456099</td>\n",
       "      <td>0.360753</td>\n",
       "    </tr>\n",
       "    <tr>\n",
       "      <th>64</th>\n",
       "      <td>0.630436</td>\n",
       "      <td>0.764258</td>\n",
       "    </tr>\n",
       "    <tr>\n",
       "      <th>15</th>\n",
       "      <td>1.327974</td>\n",
       "      <td>1.609697</td>\n",
       "    </tr>\n",
       "    <tr>\n",
       "      <th>125</th>\n",
       "      <td>-0.890298</td>\n",
       "      <td>-0.657617</td>\n",
       "    </tr>\n",
       "    <tr>\n",
       "      <th>9</th>\n",
       "      <td>-0.305513</td>\n",
       "      <td>-0.657617</td>\n",
       "    </tr>\n",
       "  </tbody>\n",
       "</table>\n",
       "<p>150 rows × 2 columns</p>\n",
       "</div>"
      ],
      "text/plain": [
       "     y_train Prediction  y_train Real\n",
       "24            -1.060423     -0.830548\n",
       "43            -0.033073     -0.215683\n",
       "101            1.701700      1.878700\n",
       "163            0.685783      0.764258\n",
       "21             0.096081     -0.292541\n",
       "..                  ...           ...\n",
       "113            0.456099      0.360753\n",
       "64             0.630436      0.764258\n",
       "15             1.327974      1.609697\n",
       "125           -0.890298     -0.657617\n",
       "9             -0.305513     -0.657617\n",
       "\n",
       "[150 rows x 2 columns]"
      ]
     },
     "metadata": {},
     "output_type": "display_data"
    }
   ],
   "source": [
    "training_y_hat= predict(x_train, w_train[-1])\n",
    "\n",
    "#shows a table that compares the values of y-hat and actual y\n",
    "training_y_df = pd.DataFrame({'y_train Prediction': training_y_hat, 'y_train Real': y_train})\n",
    "\n",
    "display(training_y_df)"
   ]
  },
  {
   "cell_type": "code",
   "execution_count": 21,
   "id": "8d3f2876",
   "metadata": {},
   "outputs": [
    {
     "name": "stdout",
     "output_type": "stream",
     "text": [
      "Cost of train set:  0.033085722796398126\n"
     ]
    }
   ],
   "source": [
    "computed_train = compute_cost(training_y_hat,y_train)\n",
    "\n",
    "print(\"Cost of train set: \", computed_train)"
   ]
  },
  {
   "cell_type": "code",
   "execution_count": 22,
   "id": "caf985c4",
   "metadata": {},
   "outputs": [
    {
     "name": "stdout",
     "output_type": "stream",
     "text": [
      "Train Set MSE Value:  0.06617144559279624\n"
     ]
    }
   ],
   "source": [
    "print(\"Train Set MSE Value: \",mean_squared_error(training_y_hat,y_train))"
   ]
  },
  {
   "cell_type": "code",
   "execution_count": 48,
   "id": "b5e5e9f9",
   "metadata": {},
   "outputs": [
    {
     "data": {
      "image/png": "[encoded data removed]",
      "text/plain": [
       "<Figure size 432x288 with 1 Axes>"
      ]
     },
     "metadata": {
      "needs_background": "light"
     },
     "output_type": "display_data"
    }
   ],
   "source": [
    "plot_costs(cost_train)"
   ]
  },
  {
   "cell_type": "markdown",
   "id": "93e3a2d7",
   "metadata": {},
   "source": [
    "Using MSE, we are given the value of 0.6617. The value being close to zero implies that the model is much more accurate. The graph of cost to iterations shows that the cost gets lower per iteration, proving that the cost used for the train data was the most accurate one it can provide."
   ]
  },
  {
   "cell_type": "markdown",
   "id": "f87ffdf8",
   "metadata": {},
   "source": [
    "# 7.Predict the quantitative response y on the test set"
   ]
  },
  {
   "cell_type": "code",
   "execution_count": 23,
   "id": "a91a2c3d",
   "metadata": {},
   "outputs": [
    {
     "data": {
      "text/html": [
       "<div>\n",
       "<style scoped>\n",
       "    .dataframe tbody tr th:only-of-type {\n",
       "        vertical-align: middle;\n",
       "    }\n",
       "\n",
       "    .dataframe tbody tr th {\n",
       "        vertical-align: top;\n",
       "    }\n",
       "\n",
       "    .dataframe thead th {\n",
       "        text-align: right;\n",
       "    }\n",
       "</style>\n",
       "<table border=\"1\" class=\"dataframe\">\n",
       "  <thead>\n",
       "    <tr style=\"text-align: right;\">\n",
       "      <th></th>\n",
       "      <th>y_test Prediction</th>\n",
       "      <th>y_test Real</th>\n",
       "    </tr>\n",
       "  </thead>\n",
       "  <tbody>\n",
       "    <tr>\n",
       "      <th>59</th>\n",
       "      <td>0.742859</td>\n",
       "      <td>0.841116</td>\n",
       "    </tr>\n",
       "    <tr>\n",
       "      <th>5</th>\n",
       "      <td>-0.480611</td>\n",
       "      <td>-1.310911</td>\n",
       "    </tr>\n",
       "    <tr>\n",
       "      <th>20</th>\n",
       "      <td>0.831943</td>\n",
       "      <td>0.764258</td>\n",
       "    </tr>\n",
       "    <tr>\n",
       "      <th>198</th>\n",
       "      <td>2.003624</td>\n",
       "      <td>2.205347</td>\n",
       "    </tr>\n",
       "    <tr>\n",
       "      <th>52</th>\n",
       "      <td>1.277843</td>\n",
       "      <td>1.648126</td>\n",
       "    </tr>\n",
       "    <tr>\n",
       "      <th>19</th>\n",
       "      <td>-0.068201</td>\n",
       "      <td>0.110964</td>\n",
       "    </tr>\n",
       "    <tr>\n",
       "      <th>162</th>\n",
       "      <td>0.149866</td>\n",
       "      <td>0.168607</td>\n",
       "    </tr>\n",
       "    <tr>\n",
       "      <th>55</th>\n",
       "      <td>1.407356</td>\n",
       "      <td>1.859486</td>\n",
       "    </tr>\n",
       "    <tr>\n",
       "      <th>69</th>\n",
       "      <td>1.337577</td>\n",
       "      <td>1.590482</td>\n",
       "    </tr>\n",
       "    <tr>\n",
       "      <th>2</th>\n",
       "      <td>-0.510469</td>\n",
       "      <td>-0.907406</td>\n",
       "    </tr>\n",
       "    <tr>\n",
       "      <th>98</th>\n",
       "      <td>2.049328</td>\n",
       "      <td>2.186132</td>\n",
       "    </tr>\n",
       "    <tr>\n",
       "      <th>10</th>\n",
       "      <td>-1.501676</td>\n",
       "      <td>-1.041908</td>\n",
       "    </tr>\n",
       "    <tr>\n",
       "      <th>75</th>\n",
       "      <td>-0.556067</td>\n",
       "      <td>-1.022693</td>\n",
       "    </tr>\n",
       "    <tr>\n",
       "      <th>142</th>\n",
       "      <td>1.018689</td>\n",
       "      <td>1.167763</td>\n",
       "    </tr>\n",
       "    <tr>\n",
       "      <th>124</th>\n",
       "      <td>1.138884</td>\n",
       "      <td>1.090905</td>\n",
       "    </tr>\n",
       "    <tr>\n",
       "      <th>63</th>\n",
       "      <td>-0.331820</td>\n",
       "      <td>-0.004323</td>\n",
       "    </tr>\n",
       "    <tr>\n",
       "      <th>109</th>\n",
       "      <td>1.091099</td>\n",
       "      <td>1.110119</td>\n",
       "    </tr>\n",
       "    <tr>\n",
       "      <th>78</th>\n",
       "      <td>-1.289599</td>\n",
       "      <td>-1.675987</td>\n",
       "    </tr>\n",
       "    <tr>\n",
       "      <th>111</th>\n",
       "      <td>1.372737</td>\n",
       "      <td>1.494410</td>\n",
       "    </tr>\n",
       "    <tr>\n",
       "      <th>185</th>\n",
       "      <td>1.248924</td>\n",
       "      <td>1.648126</td>\n",
       "    </tr>\n",
       "    <tr>\n",
       "      <th>154</th>\n",
       "      <td>0.221283</td>\n",
       "      <td>0.303109</td>\n",
       "    </tr>\n",
       "    <tr>\n",
       "      <th>130</th>\n",
       "      <td>-0.998574</td>\n",
       "      <td>-2.386924</td>\n",
       "    </tr>\n",
       "    <tr>\n",
       "      <th>61</th>\n",
       "      <td>1.786166</td>\n",
       "      <td>1.955558</td>\n",
       "    </tr>\n",
       "    <tr>\n",
       "      <th>87</th>\n",
       "      <td>0.225947</td>\n",
       "      <td>0.379967</td>\n",
       "    </tr>\n",
       "    <tr>\n",
       "      <th>102</th>\n",
       "      <td>0.778195</td>\n",
       "      <td>0.149393</td>\n",
       "    </tr>\n",
       "    <tr>\n",
       "      <th>121</th>\n",
       "      <td>-1.372701</td>\n",
       "      <td>-1.349340</td>\n",
       "    </tr>\n",
       "    <tr>\n",
       "      <th>136</th>\n",
       "      <td>-0.770299</td>\n",
       "      <td>-0.868977</td>\n",
       "    </tr>\n",
       "    <tr>\n",
       "      <th>1</th>\n",
       "      <td>-0.510318</td>\n",
       "      <td>-0.696046</td>\n",
       "    </tr>\n",
       "    <tr>\n",
       "      <th>47</th>\n",
       "      <td>1.469120</td>\n",
       "      <td>1.763413</td>\n",
       "    </tr>\n",
       "    <tr>\n",
       "      <th>172</th>\n",
       "      <td>-1.477643</td>\n",
       "      <td>-1.234053</td>\n",
       "    </tr>\n",
       "    <tr>\n",
       "      <th>159</th>\n",
       "      <td>-0.389527</td>\n",
       "      <td>-0.215683</td>\n",
       "    </tr>\n",
       "    <tr>\n",
       "      <th>39</th>\n",
       "      <td>1.240691</td>\n",
       "      <td>1.436766</td>\n",
       "    </tr>\n",
       "    <tr>\n",
       "      <th>76</th>\n",
       "      <td>-2.039261</td>\n",
       "      <td>-1.368554</td>\n",
       "    </tr>\n",
       "    <tr>\n",
       "      <th>91</th>\n",
       "      <td>-2.010805</td>\n",
       "      <td>-1.291696</td>\n",
       "    </tr>\n",
       "    <tr>\n",
       "      <th>35</th>\n",
       "      <td>0.651123</td>\n",
       "      <td>-0.234898</td>\n",
       "    </tr>\n",
       "    <tr>\n",
       "      <th>178</th>\n",
       "      <td>0.474572</td>\n",
       "      <td>-0.427043</td>\n",
       "    </tr>\n",
       "    <tr>\n",
       "      <th>127</th>\n",
       "      <td>-1.589452</td>\n",
       "      <td>-1.003478</td>\n",
       "    </tr>\n",
       "    <tr>\n",
       "      <th>169</th>\n",
       "      <td>0.810953</td>\n",
       "      <td>0.187822</td>\n",
       "    </tr>\n",
       "    <tr>\n",
       "      <th>46</th>\n",
       "      <td>-1.103469</td>\n",
       "      <td>-0.657617</td>\n",
       "    </tr>\n",
       "    <tr>\n",
       "      <th>174</th>\n",
       "      <td>-0.046373</td>\n",
       "      <td>-0.484686</td>\n",
       "    </tr>\n",
       "    <tr>\n",
       "      <th>190</th>\n",
       "      <td>-0.564296</td>\n",
       "      <td>-0.619188</td>\n",
       "    </tr>\n",
       "    <tr>\n",
       "      <th>7</th>\n",
       "      <td>-0.501465</td>\n",
       "      <td>-0.158039</td>\n",
       "    </tr>\n",
       "    <tr>\n",
       "      <th>26</th>\n",
       "      <td>0.065608</td>\n",
       "      <td>0.187822</td>\n",
       "    </tr>\n",
       "    <tr>\n",
       "      <th>138</th>\n",
       "      <td>-1.035654</td>\n",
       "      <td>-0.849762</td>\n",
       "    </tr>\n",
       "    <tr>\n",
       "      <th>58</th>\n",
       "      <td>1.494928</td>\n",
       "      <td>1.878700</td>\n",
       "    </tr>\n",
       "    <tr>\n",
       "      <th>72</th>\n",
       "      <td>-0.951010</td>\n",
       "      <td>-1.003478</td>\n",
       "    </tr>\n",
       "    <tr>\n",
       "      <th>103</th>\n",
       "      <td>0.100283</td>\n",
       "      <td>0.130178</td>\n",
       "    </tr>\n",
       "    <tr>\n",
       "      <th>199</th>\n",
       "      <td>0.224589</td>\n",
       "      <td>-0.119610</td>\n",
       "    </tr>\n",
       "    <tr>\n",
       "      <th>56</th>\n",
       "      <td>-1.278980</td>\n",
       "      <td>-1.637558</td>\n",
       "    </tr>\n",
       "    <tr>\n",
       "      <th>116</th>\n",
       "      <td>-0.473436</td>\n",
       "      <td>-0.350185</td>\n",
       "    </tr>\n",
       "  </tbody>\n",
       "</table>\n",
       "</div>"
      ],
      "text/plain": [
       "     y_test Prediction  y_test Real\n",
       "59            0.742859     0.841116\n",
       "5            -0.480611    -1.310911\n",
       "20            0.831943     0.764258\n",
       "198           2.003624     2.205347\n",
       "52            1.277843     1.648126\n",
       "19           -0.068201     0.110964\n",
       "162           0.149866     0.168607\n",
       "55            1.407356     1.859486\n",
       "69            1.337577     1.590482\n",
       "2            -0.510469    -0.907406\n",
       "98            2.049328     2.186132\n",
       "10           -1.501676    -1.041908\n",
       "75           -0.556067    -1.022693\n",
       "142           1.018689     1.167763\n",
       "124           1.138884     1.090905\n",
       "63           -0.331820    -0.004323\n",
       "109           1.091099     1.110119\n",
       "78           -1.289599    -1.675987\n",
       "111           1.372737     1.494410\n",
       "185           1.248924     1.648126\n",
       "154           0.221283     0.303109\n",
       "130          -0.998574    -2.386924\n",
       "61            1.786166     1.955558\n",
       "87            0.225947     0.379967\n",
       "102           0.778195     0.149393\n",
       "121          -1.372701    -1.349340\n",
       "136          -0.770299    -0.868977\n",
       "1            -0.510318    -0.696046\n",
       "47            1.469120     1.763413\n",
       "172          -1.477643    -1.234053\n",
       "159          -0.389527    -0.215683\n",
       "39            1.240691     1.436766\n",
       "76           -2.039261    -1.368554\n",
       "91           -2.010805    -1.291696\n",
       "35            0.651123    -0.234898\n",
       "178           0.474572    -0.427043\n",
       "127          -1.589452    -1.003478\n",
       "169           0.810953     0.187822\n",
       "46           -1.103469    -0.657617\n",
       "174          -0.046373    -0.484686\n",
       "190          -0.564296    -0.619188\n",
       "7            -0.501465    -0.158039\n",
       "26            0.065608     0.187822\n",
       "138          -1.035654    -0.849762\n",
       "58            1.494928     1.878700\n",
       "72           -0.951010    -1.003478\n",
       "103           0.100283     0.130178\n",
       "199           0.224589    -0.119610\n",
       "56           -1.278980    -1.637558\n",
       "116          -0.473436    -0.350185"
      ]
     },
     "metadata": {},
     "output_type": "display_data"
    }
   ],
   "source": [
    "#perform gradual descent to the test set\n",
    "w_test, cost_test = grad_descent(x_test, y_test, 0.01, 1000)\n",
    "\n",
    "testing_y_hat= predict(x_test, w_test[-1])\n",
    "testing_y_df = pd.DataFrame({'y_test Prediction': testing_y_hat, 'y_test Real': y_test})\n",
    "display(testing_y_df)"
   ]
  },
  {
   "cell_type": "code",
   "execution_count": 24,
   "id": "1fe6d0db",
   "metadata": {},
   "outputs": [
    {
     "name": "stdout",
     "output_type": "stream",
     "text": [
      "Cost of test set:  0.09155762816464964\n"
     ]
    }
   ],
   "source": [
    "computed_test = compute_cost(testing_y_hat,y_test)\n",
    "\n",
    "print(\"Cost of test set: \", computed_test)"
   ]
  },
  {
   "cell_type": "code",
   "execution_count": 25,
   "id": "9ebe2566",
   "metadata": {},
   "outputs": [
    {
     "name": "stdout",
     "output_type": "stream",
     "text": [
      "Test Set MSE Value:  0.1831152563292993\n"
     ]
    }
   ],
   "source": [
    "print(\"Test Set MSE Value: \", mean_squared_error(testing_y_hat,y_test))\n"
   ]
  },
  {
   "cell_type": "markdown",
   "id": "d32b852a",
   "metadata": {},
   "source": [
    "The MSE value of the test set is 0.1831. This value, while being fairly accurate due to being close to zero, is greater than the training set. "
   ]
  },
  {
   "cell_type": "markdown",
   "id": "4d0decb2",
   "metadata": {},
   "source": [
    "# 8. Revert back a standardized data to original form "
   ]
  },
  {
   "cell_type": "code",
   "execution_count": 26,
   "id": "0b901ff9",
   "metadata": {},
   "outputs": [
    {
     "data": {
      "text/html": [
       "<div>\n",
       "<style scoped>\n",
       "    .dataframe tbody tr th:only-of-type {\n",
       "        vertical-align: middle;\n",
       "    }\n",
       "\n",
       "    .dataframe tbody tr th {\n",
       "        vertical-align: top;\n",
       "    }\n",
       "\n",
       "    .dataframe thead th {\n",
       "        text-align: right;\n",
       "    }\n",
       "</style>\n",
       "<table border=\"1\" class=\"dataframe\">\n",
       "  <thead>\n",
       "    <tr style=\"text-align: right;\">\n",
       "      <th></th>\n",
       "      <th>TV</th>\n",
       "      <th>Radio</th>\n",
       "      <th>Newspaper</th>\n",
       "      <th>Sales</th>\n",
       "    </tr>\n",
       "  </thead>\n",
       "  <tbody>\n",
       "    <tr>\n",
       "      <th>0</th>\n",
       "      <td>0.969852</td>\n",
       "      <td>0.981522</td>\n",
       "      <td>1.778945</td>\n",
       "      <td>1.552053</td>\n",
       "    </tr>\n",
       "    <tr>\n",
       "      <th>1</th>\n",
       "      <td>-1.197376</td>\n",
       "      <td>1.082808</td>\n",
       "      <td>0.669579</td>\n",
       "      <td>-0.696046</td>\n",
       "    </tr>\n",
       "    <tr>\n",
       "      <th>2</th>\n",
       "      <td>-1.516155</td>\n",
       "      <td>1.528463</td>\n",
       "      <td>1.783549</td>\n",
       "      <td>-0.907406</td>\n",
       "    </tr>\n",
       "    <tr>\n",
       "      <th>3</th>\n",
       "      <td>0.052050</td>\n",
       "      <td>1.217855</td>\n",
       "      <td>1.286405</td>\n",
       "      <td>0.860330</td>\n",
       "    </tr>\n",
       "    <tr>\n",
       "      <th>4</th>\n",
       "      <td>0.394182</td>\n",
       "      <td>-0.841614</td>\n",
       "      <td>1.281802</td>\n",
       "      <td>-0.215683</td>\n",
       "    </tr>\n",
       "    <tr>\n",
       "      <th>...</th>\n",
       "      <td>...</td>\n",
       "      <td>...</td>\n",
       "      <td>...</td>\n",
       "      <td>...</td>\n",
       "    </tr>\n",
       "    <tr>\n",
       "      <th>195</th>\n",
       "      <td>-1.270941</td>\n",
       "      <td>-1.321031</td>\n",
       "      <td>-0.771217</td>\n",
       "      <td>-1.234053</td>\n",
       "    </tr>\n",
       "    <tr>\n",
       "      <th>196</th>\n",
       "      <td>-0.617035</td>\n",
       "      <td>-1.240003</td>\n",
       "      <td>-1.033598</td>\n",
       "      <td>-0.830548</td>\n",
       "    </tr>\n",
       "    <tr>\n",
       "      <th>197</th>\n",
       "      <td>0.349810</td>\n",
       "      <td>-0.942899</td>\n",
       "      <td>-1.111852</td>\n",
       "      <td>-0.234898</td>\n",
       "    </tr>\n",
       "    <tr>\n",
       "      <th>198</th>\n",
       "      <td>1.594565</td>\n",
       "      <td>1.265121</td>\n",
       "      <td>1.640850</td>\n",
       "      <td>2.205347</td>\n",
       "    </tr>\n",
       "    <tr>\n",
       "      <th>199</th>\n",
       "      <td>0.993206</td>\n",
       "      <td>-0.990165</td>\n",
       "      <td>-1.005979</td>\n",
       "      <td>-0.119610</td>\n",
       "    </tr>\n",
       "  </tbody>\n",
       "</table>\n",
       "<p>200 rows × 4 columns</p>\n",
       "</div>"
      ],
      "text/plain": [
       "           TV     Radio  Newspaper     Sales\n",
       "0    0.969852  0.981522   1.778945  1.552053\n",
       "1   -1.197376  1.082808   0.669579 -0.696046\n",
       "2   -1.516155  1.528463   1.783549 -0.907406\n",
       "3    0.052050  1.217855   1.286405  0.860330\n",
       "4    0.394182 -0.841614   1.281802 -0.215683\n",
       "..        ...       ...        ...       ...\n",
       "195 -1.270941 -1.321031  -0.771217 -1.234053\n",
       "196 -0.617035 -1.240003  -1.033598 -0.830548\n",
       "197  0.349810 -0.942899  -1.111852 -0.234898\n",
       "198  1.594565  1.265121   1.640850  2.205347\n",
       "199  0.993206 -0.990165  -1.005979 -0.119610\n",
       "\n",
       "[200 rows x 4 columns]"
      ]
     },
     "execution_count": 26,
     "metadata": {},
     "output_type": "execute_result"
    }
   ],
   "source": [
    "#copy over the standardized dataset\n",
    "df_revert = df_stndrdzd.copy()\n",
    "\n",
    "df_revert.drop('bias', axis=1, inplace=True)\n",
    "\n",
    "df_revert"
   ]
  },
  {
   "cell_type": "code",
   "execution_count": 27,
   "id": "ad926095",
   "metadata": {},
   "outputs": [
    {
     "data": {
      "text/html": [
       "<div>\n",
       "<style scoped>\n",
       "    .dataframe tbody tr th:only-of-type {\n",
       "        vertical-align: middle;\n",
       "    }\n",
       "\n",
       "    .dataframe tbody tr th {\n",
       "        vertical-align: top;\n",
       "    }\n",
       "\n",
       "    .dataframe thead th {\n",
       "        text-align: right;\n",
       "    }\n",
       "</style>\n",
       "<table border=\"1\" class=\"dataframe\">\n",
       "  <thead>\n",
       "    <tr style=\"text-align: right;\">\n",
       "      <th></th>\n",
       "      <th>TV</th>\n",
       "      <th>Radio</th>\n",
       "      <th>Newspaper</th>\n",
       "      <th>Sales</th>\n",
       "    </tr>\n",
       "  </thead>\n",
       "  <tbody>\n",
       "    <tr>\n",
       "      <th>0</th>\n",
       "      <td>230.308426</td>\n",
       "      <td>37.836477</td>\n",
       "      <td>69.296979</td>\n",
       "      <td>22.120270</td>\n",
       "    </tr>\n",
       "    <tr>\n",
       "      <th>1</th>\n",
       "      <td>44.242678</td>\n",
       "      <td>39.340241</td>\n",
       "      <td>45.136502</td>\n",
       "      <td>10.390910</td>\n",
       "    </tr>\n",
       "    <tr>\n",
       "      <th>2</th>\n",
       "      <td>16.874171</td>\n",
       "      <td>45.956803</td>\n",
       "      <td>69.397230</td>\n",
       "      <td>9.288149</td>\n",
       "    </tr>\n",
       "    <tr>\n",
       "      <th>3</th>\n",
       "      <td>151.511186</td>\n",
       "      <td>41.345260</td>\n",
       "      <td>58.570128</td>\n",
       "      <td>18.511236</td>\n",
       "    </tr>\n",
       "    <tr>\n",
       "      <th>4</th>\n",
       "      <td>180.884712</td>\n",
       "      <td>10.768723</td>\n",
       "      <td>58.469877</td>\n",
       "      <td>12.897183</td>\n",
       "    </tr>\n",
       "    <tr>\n",
       "      <th>...</th>\n",
       "      <td>...</td>\n",
       "      <td>...</td>\n",
       "      <td>...</td>\n",
       "      <td>...</td>\n",
       "    </tr>\n",
       "    <tr>\n",
       "      <th>195</th>\n",
       "      <td>37.926869</td>\n",
       "      <td>3.650906</td>\n",
       "      <td>13.757957</td>\n",
       "      <td>7.583883</td>\n",
       "    </tr>\n",
       "    <tr>\n",
       "      <th>196</th>\n",
       "      <td>94.067396</td>\n",
       "      <td>4.853917</td>\n",
       "      <td>8.043654</td>\n",
       "      <td>9.689153</td>\n",
       "    </tr>\n",
       "    <tr>\n",
       "      <th>197</th>\n",
       "      <td>177.075176</td>\n",
       "      <td>9.264959</td>\n",
       "      <td>6.339388</td>\n",
       "      <td>12.796932</td>\n",
       "    </tr>\n",
       "    <tr>\n",
       "      <th>198</th>\n",
       "      <td>283.942679</td>\n",
       "      <td>42.047016</td>\n",
       "      <td>66.289451</td>\n",
       "      <td>25.528802</td>\n",
       "    </tr>\n",
       "    <tr>\n",
       "      <th>199</th>\n",
       "      <td>232.313445</td>\n",
       "      <td>8.563202</td>\n",
       "      <td>8.645159</td>\n",
       "      <td>13.398438</td>\n",
       "    </tr>\n",
       "  </tbody>\n",
       "</table>\n",
       "<p>200 rows × 4 columns</p>\n",
       "</div>"
      ],
      "text/plain": [
       "             TV      Radio  Newspaper      Sales\n",
       "0    230.308426  37.836477  69.296979  22.120270\n",
       "1     44.242678  39.340241  45.136502  10.390910\n",
       "2     16.874171  45.956803  69.397230   9.288149\n",
       "3    151.511186  41.345260  58.570128  18.511236\n",
       "4    180.884712  10.768723  58.469877  12.897183\n",
       "..          ...        ...        ...        ...\n",
       "195   37.926869   3.650906  13.757957   7.583883\n",
       "196   94.067396   4.853917   8.043654   9.689153\n",
       "197  177.075176   9.264959   6.339388  12.796932\n",
       "198  283.942679  42.047016  66.289451  25.528802\n",
       "199  232.313445   8.563202   8.645159  13.398438\n",
       "\n",
       "[200 rows x 4 columns]"
      ]
     },
     "execution_count": 27,
     "metadata": {},
     "output_type": "execute_result"
    }
   ],
   "source": [
    "#these processes reverts all the values of the dataset back to original\n",
    "\n",
    "df_revert['TV'] = df_revert['TV'] * df['TV'].std() + df['TV'].mean()\n",
    "df_revert['Radio'] = df_revert['Radio'] * df['Radio'].std() + df['Radio'].mean()\n",
    "df_revert['Newspaper'] = df_revert['Newspaper'] * df['Newspaper'].std() + df['Newspaper'].mean()\n",
    "df_revert['Sales'] = df_revert['Sales'] * df['Sales'].std() + df['Sales'].mean()\n",
    "\n",
    "df_revert"
   ]
  },
  {
   "cell_type": "code",
   "execution_count": 28,
   "id": "4c20b367",
   "metadata": {},
   "outputs": [
    {
     "data": {
      "text/html": [
       "<div>\n",
       "<style scoped>\n",
       "    .dataframe tbody tr th:only-of-type {\n",
       "        vertical-align: middle;\n",
       "    }\n",
       "\n",
       "    .dataframe tbody tr th {\n",
       "        vertical-align: top;\n",
       "    }\n",
       "\n",
       "    .dataframe thead th {\n",
       "        text-align: right;\n",
       "    }\n",
       "</style>\n",
       "<table border=\"1\" class=\"dataframe\">\n",
       "  <thead>\n",
       "    <tr style=\"text-align: right;\">\n",
       "      <th></th>\n",
       "      <th>Sales</th>\n",
       "      <th>Predicted Sales</th>\n",
       "    </tr>\n",
       "  </thead>\n",
       "  <tbody>\n",
       "    <tr>\n",
       "      <th>0</th>\n",
       "      <td>22.120270</td>\n",
       "      <td>20.452120</td>\n",
       "    </tr>\n",
       "    <tr>\n",
       "      <th>1</th>\n",
       "      <td>10.390910</td>\n",
       "      <td>12.856621</td>\n",
       "    </tr>\n",
       "    <tr>\n",
       "      <th>2</th>\n",
       "      <td>9.288149</td>\n",
       "      <td>12.895206</td>\n",
       "    </tr>\n",
       "    <tr>\n",
       "      <th>3</th>\n",
       "      <td>18.511236</td>\n",
       "      <td>17.797090</td>\n",
       "    </tr>\n",
       "    <tr>\n",
       "      <th>4</th>\n",
       "      <td>12.897183</td>\n",
       "      <td>13.093443</td>\n",
       "    </tr>\n",
       "    <tr>\n",
       "      <th>...</th>\n",
       "      <td>...</td>\n",
       "      <td>...</td>\n",
       "    </tr>\n",
       "    <tr>\n",
       "      <th>195</th>\n",
       "      <td>7.583883</td>\n",
       "      <td>5.730269</td>\n",
       "    </tr>\n",
       "    <tr>\n",
       "      <th>196</th>\n",
       "      <td>9.689153</td>\n",
       "      <td>8.387667</td>\n",
       "    </tr>\n",
       "    <tr>\n",
       "      <th>197</th>\n",
       "      <td>12.796932</td>\n",
       "      <td>12.807962</td>\n",
       "    </tr>\n",
       "    <tr>\n",
       "      <th>198</th>\n",
       "      <td>25.528802</td>\n",
       "      <td>23.579730</td>\n",
       "    </tr>\n",
       "    <tr>\n",
       "      <th>199</th>\n",
       "      <td>13.398438</td>\n",
       "      <td>15.029044</td>\n",
       "    </tr>\n",
       "  </tbody>\n",
       "</table>\n",
       "<p>200 rows × 2 columns</p>\n",
       "</div>"
      ],
      "text/plain": [
       "         Sales  Predicted Sales\n",
       "0    22.120270        20.452120\n",
       "1    10.390910        12.856621\n",
       "2     9.288149        12.895206\n",
       "3    18.511236        17.797090\n",
       "4    12.897183        13.093443\n",
       "..         ...              ...\n",
       "195   7.583883         5.730269\n",
       "196   9.689153         8.387667\n",
       "197  12.796932        12.807962\n",
       "198  25.528802        23.579730\n",
       "199  13.398438        15.029044\n",
       "\n",
       "[200 rows x 2 columns]"
      ]
     },
     "metadata": {},
     "output_type": "display_data"
    }
   ],
   "source": [
    "#to check if the predictions differ from the original data, we perform a prediction using the unstradized values\n",
    "predict_sales = predict(df_stndrdzd[['bias', 'TV', 'Radio', 'Newspaper']], w_train[-1])\n",
    "\n",
    "df_revert['Predicted Sales'] = predict_sales\n",
    "\n",
    "df_revert['Predicted Sales'] = df_revert['Predicted Sales'] * df['Sales'].std() + df['Sales'].mean()\n",
    "\n",
    "sales_compare =  pd.DataFrame({'Sales': df_revert['Sales'] ,'Predicted Sales': df_revert['Predicted Sales']})\n",
    "display(sales_compare)"
   ]
  },
  {
   "cell_type": "markdown",
   "id": "44d5cbfb",
   "metadata": {},
   "source": [
    "Reverting the Standardized form data back to its original, along with a new column that shows the predicted sales, tells us that the predictions are almost close to the actual values."
   ]
  },
  {
   "cell_type": "markdown",
   "id": "66506d94",
   "metadata": {},
   "source": [
    "# 9. Observe the cost results and analyse. "
   ]
  },
  {
   "cell_type": "code",
   "execution_count": 29,
   "id": "6c7087fe",
   "metadata": {},
   "outputs": [
    {
     "data": {
      "image/png": "[encoded data removed]",
      "text/plain": [
       "<Figure size 432x288 with 1 Axes>"
      ]
     },
     "metadata": {
      "needs_background": "light"
     },
     "output_type": "display_data"
    }
   ],
   "source": [
    "#graph to show the results of the train set costs and test set costs\n",
    "\n",
    "plt.xlabel('Iterations')\n",
    "plt.ylabel('Cost')\n",
    "plt.plot(cost_train, label='cost_train')\n",
    "plt.plot(cost_test, label='cost_test')\n",
    "plt.legend()\n",
    "plt.show()"
   ]
  },
  {
   "cell_type": "markdown",
   "id": "6484b849",
   "metadata": {},
   "source": [
    "Looking at the graph, the costs of both the train and test sets decrease as the iteration continues, showing that the gradient descent algorithm did work in lowering and achieving the most accurate cost to use in the formulas."
   ]
  },
  {
   "cell_type": "markdown",
   "id": "ef438554",
   "metadata": {},
   "source": [
    "# Questions:"
   ]
  },
  {
   "cell_type": "markdown",
   "id": "90c9aac3",
   "metadata": {},
   "source": [
    "# Q.1"
   ]
  },
  {
   "cell_type": "code",
   "execution_count": 30,
   "id": "87d508fa",
   "metadata": {},
   "outputs": [],
   "source": [
    "# Grad_descent for question 1 only, where the weights are all zeroes\n",
    "def q1_grad_descent(x, y, a, iterations):\n",
    "    initWeight = np.array([0.0, 0.0, 0.0, 0.0])\n",
    "    costMatrix = []\n",
    "    weightsMatrix = []\n",
    "    \n",
    "    for i in range(iterations):\n",
    "        y_hat = predict(x, initWeight)\n",
    "\n",
    "        cost = compute_cost(y_hat, y)\n",
    "\n",
    "        gradient = compute_gradient(x,y,y_hat)\n",
    "\n",
    "        initWeight = update_weights(initWeight, a, gradient)\n",
    "        \n",
    "        costMatrix.append(cost)\n",
    "        weightsMatrix.append(initWeight)\n",
    "\n",
    "    \n",
    "    return weightsMatrix, costMatrix"
   ]
  },
  {
   "cell_type": "code",
   "execution_count": 31,
   "id": "d10bb3e3",
   "metadata": {},
   "outputs": [
    {
     "name": "stdout",
     "output_type": "stream",
     "text": [
      "Initialized Weights:  [ 0.02864184  0.70472213  0.55484697 -0.01371957]\n"
     ]
    }
   ],
   "source": [
    "q1_weights,q1_cost = q1_grad_descent(x_train, y_train, 0.01, 10000) \n",
    "\n",
    "#get the last value of q1_grad_descent\n",
    "optimal_w = q1_weights[-1]\n",
    "\n",
    "print(\"Initialized Weights: \",optimal_w)\n"
   ]
  },
  {
   "cell_type": "markdown",
   "id": "f1a6d1ce",
   "metadata": {},
   "source": [
    "plugging into the formula,\n",
    "\n",
    "h_𝜃(x) = 0.02864184 + 0.70472213*TV + 0.55484697*Radio + (-0.01371957)*Newspaper\n",
    "\n",
    "TV is the highest among the weights while Newspaper is the lowest, showing that TV contributes the most when it comes to Sales."
   ]
  },
  {
   "cell_type": "markdown",
   "id": "f826a3ac",
   "metadata": {},
   "source": [
    "# Q.2"
   ]
  },
  {
   "cell_type": "code",
   "execution_count": 32,
   "id": "8ff36736",
   "metadata": {},
   "outputs": [
    {
     "data": {
      "image/png": "[encoded data removed]",
      "text/plain": [
       "<Figure size 432x288 with 1 Axes>"
      ]
     },
     "metadata": {
      "needs_background": "light"
     },
     "output_type": "display_data"
    },
    {
     "name": "stdout",
     "output_type": "stream",
     "text": [
      "Train Set r^2 score:  0.9238935852366272\n"
     ]
    }
   ],
   "source": [
    "#Provide a scatter plot of the y hat and actual y for both the train and test set. \n",
    "q2_train_y_hat = predict(x_train, optimal_w)\n",
    "\n",
    "plt.scatter(y_train, q2_train_y_hat)\n",
    "plt.title('[TRAIN] Scatter plot of the predicted and actual Y values')\n",
    "\n",
    "plt.xlabel('Train set actual Y')\n",
    "plt.ylabel('Train set Y-Hat')\n",
    "plt.show()\n",
    "\n",
    "print(\"Train Set r^2 score: \", r2_score(y_train,q2_train_y_hat))"
   ]
  },
  {
   "cell_type": "markdown",
   "id": "c285dbbc",
   "metadata": {},
   "source": [
    "There is an upward trend for the train set for its predicted and actual Y values. The r^2 score is also in the line of 90, with the 92.38% showing the graph is pretty accurate."
   ]
  },
  {
   "cell_type": "code",
   "execution_count": 33,
   "id": "a0c04f65",
   "metadata": {},
   "outputs": [
    {
     "data": {
      "image/png": "[encoded data removed]",
      "text/plain": [
       "<Figure size 432x288 with 1 Axes>"
      ]
     },
     "metadata": {
      "needs_background": "light"
     },
     "output_type": "display_data"
    },
    {
     "name": "stdout",
     "output_type": "stream",
     "text": [
      "Train Set r^2 score:  0.8366843974055221\n"
     ]
    }
   ],
   "source": [
    "#Provide a scatter plot of the y hat and actual y for both the train and test set. \n",
    "q2_test_y_hat = predict(x_test, optimal_w)\n",
    "\n",
    "plt.scatter(y_test, q2_test_y_hat)\n",
    "plt.title('[TEST] Scatter plot of the predicted and actual Y values')\n",
    "\n",
    "plt.xlabel('Test set actual Y')\n",
    "plt.ylabel('Test set Y-Hat')\n",
    "plt.show()\n",
    "\n",
    "print(\"Train Set r^2 score: \", r2_score(y_test,q2_test_y_hat))"
   ]
  },
  {
   "cell_type": "markdown",
   "id": "ea560063",
   "metadata": {},
   "source": [
    "Just like the Train dataset, there is an upwards trend of both y values. The difference is that the r^2 score did not reach 90% but still fairly accurate at 83%"
   ]
  },
  {
   "cell_type": "markdown",
   "id": "55f72940",
   "metadata": {},
   "source": [
    "# Q.3"
   ]
  },
  {
   "cell_type": "code",
   "execution_count": 35,
   "id": "787724ae",
   "metadata": {},
   "outputs": [
    {
     "data": {
      "text/html": [
       "<div>\n",
       "<style scoped>\n",
       "    .dataframe tbody tr th:only-of-type {\n",
       "        vertical-align: middle;\n",
       "    }\n",
       "\n",
       "    .dataframe tbody tr th {\n",
       "        vertical-align: top;\n",
       "    }\n",
       "\n",
       "    .dataframe thead th {\n",
       "        text-align: right;\n",
       "    }\n",
       "</style>\n",
       "<table border=\"1\" class=\"dataframe\">\n",
       "  <thead>\n",
       "    <tr style=\"text-align: right;\">\n",
       "      <th></th>\n",
       "      <th>Q3 Error 1</th>\n",
       "    </tr>\n",
       "  </thead>\n",
       "  <tbody>\n",
       "    <tr>\n",
       "      <th>24</th>\n",
       "      <td>0.384303</td>\n",
       "    </tr>\n",
       "    <tr>\n",
       "      <th>43</th>\n",
       "      <td>0.436099</td>\n",
       "    </tr>\n",
       "    <tr>\n",
       "      <th>101</th>\n",
       "      <td>0.537277</td>\n",
       "    </tr>\n",
       "    <tr>\n",
       "      <th>163</th>\n",
       "      <td>0.169947</td>\n",
       "    </tr>\n",
       "    <tr>\n",
       "      <th>21</th>\n",
       "      <td>0.520099</td>\n",
       "    </tr>\n",
       "    <tr>\n",
       "      <th>...</th>\n",
       "      <td>...</td>\n",
       "    </tr>\n",
       "    <tr>\n",
       "      <th>113</th>\n",
       "      <td>0.213886</td>\n",
       "    </tr>\n",
       "    <tr>\n",
       "      <th>64</th>\n",
       "      <td>0.417448</td>\n",
       "    </tr>\n",
       "    <tr>\n",
       "      <th>15</th>\n",
       "      <td>0.306798</td>\n",
       "    </tr>\n",
       "    <tr>\n",
       "      <th>125</th>\n",
       "      <td>0.376421</td>\n",
       "    </tr>\n",
       "    <tr>\n",
       "      <th>9</th>\n",
       "      <td>0.570389</td>\n",
       "    </tr>\n",
       "  </tbody>\n",
       "</table>\n",
       "<p>150 rows × 1 columns</p>\n",
       "</div>"
      ],
      "text/plain": [
       "     Q3 Error 1\n",
       "24     0.384303\n",
       "43     0.436099\n",
       "101    0.537277\n",
       "163    0.169947\n",
       "21     0.520099\n",
       "..          ...\n",
       "113    0.213886\n",
       "64     0.417448\n",
       "15     0.306798\n",
       "125    0.376421\n",
       "9      0.570389\n",
       "\n",
       "[150 rows x 1 columns]"
      ]
     },
     "metadata": {},
     "output_type": "display_data"
    },
    {
     "name": "stdout",
     "output_type": "stream",
     "text": [
      "1st Q3 r^2 :  0.5433015811081796\n"
     ]
    },
    {
     "data": {
      "image/png": "[encoded data removed]",
      "text/plain": [
       "<Figure size 432x288 with 1 Axes>"
      ]
     },
     "metadata": {
      "needs_background": "light"
     },
     "output_type": "display_data"
    }
   ],
   "source": [
    "#we perform gradient descent four times but with different iterations\n",
    "\n",
    "q3_w1, q3_c2 = grad_descent(x_train, y_train, 0.01, 10) \n",
    "q3_y_hat1 = predict(x_train, q3_w1[-1],)\n",
    "\n",
    "#finding the error\n",
    "q3_error1 = q3_y_hat1 - y_train \n",
    "\n",
    "error_df1 = pd.DataFrame({'Q3 Error 1': q3_error1})\n",
    "display(error_df1)\n",
    "\n",
    "#finding the r^2 score\n",
    "print(\"1st Q3 r^2 : \", r2_score(y_train,q3_y_hat1))\n",
    "\n",
    "#shows the cost per iteration\n",
    "plot_costs(q3_c2)"
   ]
  },
  {
   "cell_type": "code",
   "execution_count": 36,
   "id": "2c014bb9",
   "metadata": {},
   "outputs": [
    {
     "data": {
      "text/html": [
       "<div>\n",
       "<style scoped>\n",
       "    .dataframe tbody tr th:only-of-type {\n",
       "        vertical-align: middle;\n",
       "    }\n",
       "\n",
       "    .dataframe tbody tr th {\n",
       "        vertical-align: top;\n",
       "    }\n",
       "\n",
       "    .dataframe thead th {\n",
       "        text-align: right;\n",
       "    }\n",
       "</style>\n",
       "<table border=\"1\" class=\"dataframe\">\n",
       "  <thead>\n",
       "    <tr style=\"text-align: right;\">\n",
       "      <th></th>\n",
       "      <th>Q3 Error 2</th>\n",
       "    </tr>\n",
       "  </thead>\n",
       "  <tbody>\n",
       "    <tr>\n",
       "      <th>24</th>\n",
       "      <td>0.033469</td>\n",
       "    </tr>\n",
       "    <tr>\n",
       "      <th>43</th>\n",
       "      <td>0.270005</td>\n",
       "    </tr>\n",
       "    <tr>\n",
       "      <th>101</th>\n",
       "      <td>0.098495</td>\n",
       "    </tr>\n",
       "    <tr>\n",
       "      <th>163</th>\n",
       "      <td>0.014369</td>\n",
       "    </tr>\n",
       "    <tr>\n",
       "      <th>21</th>\n",
       "      <td>0.418940</td>\n",
       "    </tr>\n",
       "    <tr>\n",
       "      <th>...</th>\n",
       "      <td>...</td>\n",
       "    </tr>\n",
       "    <tr>\n",
       "      <th>113</th>\n",
       "      <td>0.124817</td>\n",
       "    </tr>\n",
       "    <tr>\n",
       "      <th>64</th>\n",
       "      <td>0.094573</td>\n",
       "    </tr>\n",
       "    <tr>\n",
       "      <th>15</th>\n",
       "      <td>-0.045872</td>\n",
       "    </tr>\n",
       "    <tr>\n",
       "      <th>125</th>\n",
       "      <td>0.024979</td>\n",
       "    </tr>\n",
       "    <tr>\n",
       "      <th>9</th>\n",
       "      <td>0.424954</td>\n",
       "    </tr>\n",
       "  </tbody>\n",
       "</table>\n",
       "<p>150 rows × 1 columns</p>\n",
       "</div>"
      ],
      "text/plain": [
       "     Q3 Error 2\n",
       "24     0.033469\n",
       "43     0.270005\n",
       "101    0.098495\n",
       "163    0.014369\n",
       "21     0.418940\n",
       "..          ...\n",
       "113    0.124817\n",
       "64     0.094573\n",
       "15    -0.045872\n",
       "125    0.024979\n",
       "9      0.424954\n",
       "\n",
       "[150 rows x 1 columns]"
      ]
     },
     "metadata": {},
     "output_type": "display_data"
    },
    {
     "name": "stdout",
     "output_type": "stream",
     "text": [
      "2nd Q3 r^2 :  0.8564535379253215\n"
     ]
    },
    {
     "data": {
      "image/png": "[encoded data removed]",
      "text/plain": [
       "<Figure size 432x288 with 1 Axes>"
      ]
     },
     "metadata": {
      "needs_background": "light"
     },
     "output_type": "display_data"
    }
   ],
   "source": [
    "#Same process as before\n",
    "q3_w2, q3_c2 = grad_descent(x_train, y_train, 0.01, 100) \n",
    "q3_y_hat2 = predict(x_train, q3_w2[-1],)\n",
    "\n",
    "\n",
    "q3_error2 = q3_y_hat2 - y_train \n",
    "\n",
    "error_df2 = pd.DataFrame({'Q3 Error 2': q3_error2})\n",
    "display(error_df2)\n",
    "\n",
    "print(\"2nd Q3 r^2 : \", r2_score(y_train,q3_y_hat2))\n",
    "\n",
    "plot_costs(q3_c2)"
   ]
  },
  {
   "cell_type": "code",
   "execution_count": 37,
   "id": "84ad08e2",
   "metadata": {},
   "outputs": [
    {
     "data": {
      "text/html": [
       "<div>\n",
       "<style scoped>\n",
       "    .dataframe tbody tr th:only-of-type {\n",
       "        vertical-align: middle;\n",
       "    }\n",
       "\n",
       "    .dataframe tbody tr th {\n",
       "        vertical-align: top;\n",
       "    }\n",
       "\n",
       "    .dataframe thead th {\n",
       "        text-align: right;\n",
       "    }\n",
       "</style>\n",
       "<table border=\"1\" class=\"dataframe\">\n",
       "  <thead>\n",
       "    <tr style=\"text-align: right;\">\n",
       "      <th></th>\n",
       "      <th>Q3 Error 3</th>\n",
       "    </tr>\n",
       "  </thead>\n",
       "  <tbody>\n",
       "    <tr>\n",
       "      <th>24</th>\n",
       "      <td>-0.229875</td>\n",
       "    </tr>\n",
       "    <tr>\n",
       "      <th>43</th>\n",
       "      <td>0.182610</td>\n",
       "    </tr>\n",
       "    <tr>\n",
       "      <th>101</th>\n",
       "      <td>-0.177000</td>\n",
       "    </tr>\n",
       "    <tr>\n",
       "      <th>163</th>\n",
       "      <td>-0.078475</td>\n",
       "    </tr>\n",
       "    <tr>\n",
       "      <th>21</th>\n",
       "      <td>0.388622</td>\n",
       "    </tr>\n",
       "    <tr>\n",
       "      <th>...</th>\n",
       "      <td>...</td>\n",
       "    </tr>\n",
       "    <tr>\n",
       "      <th>113</th>\n",
       "      <td>0.095347</td>\n",
       "    </tr>\n",
       "    <tr>\n",
       "      <th>64</th>\n",
       "      <td>-0.133822</td>\n",
       "    </tr>\n",
       "    <tr>\n",
       "      <th>15</th>\n",
       "      <td>-0.281723</td>\n",
       "    </tr>\n",
       "    <tr>\n",
       "      <th>125</th>\n",
       "      <td>-0.232681</td>\n",
       "    </tr>\n",
       "    <tr>\n",
       "      <th>9</th>\n",
       "      <td>0.352104</td>\n",
       "    </tr>\n",
       "  </tbody>\n",
       "</table>\n",
       "<p>150 rows × 1 columns</p>\n",
       "</div>"
      ],
      "text/plain": [
       "     Q3 Error 3\n",
       "24    -0.229875\n",
       "43     0.182610\n",
       "101   -0.177000\n",
       "163   -0.078475\n",
       "21     0.388622\n",
       "..          ...\n",
       "113    0.095347\n",
       "64    -0.133822\n",
       "15    -0.281723\n",
       "125   -0.232681\n",
       "9      0.352104\n",
       "\n",
       "[150 rows x 1 columns]"
      ]
     },
     "metadata": {},
     "output_type": "display_data"
    },
    {
     "name": "stdout",
     "output_type": "stream",
     "text": [
      "3rd Q3 r^2 :  0.9238935795583388\n"
     ]
    },
    {
     "data": {
      "image/png": "[encoded data removed]",
      "text/plain": [
       "<Figure size 432x288 with 1 Axes>"
      ]
     },
     "metadata": {
      "needs_background": "light"
     },
     "output_type": "display_data"
    }
   ],
   "source": [
    "#Same process as before\n",
    "q3_w3, q3_c3 = grad_descent(x_train, y_train, 0.01, 1000) \n",
    "q3_y_hat3 = predict(x_train, q3_w3[-1],)\n",
    "\n",
    "\n",
    "q3_error3 = q3_y_hat3 - y_train \n",
    "\n",
    "error_df3 = pd.DataFrame({'Q3 Error 3': q3_error3})\n",
    "display(error_df3)\n",
    "\n",
    "print(\"3rd Q3 r^2 : \", r2_score(y_train,q3_y_hat3))\n",
    "\n",
    "plot_costs(q3_c3)"
   ]
  },
  {
   "cell_type": "code",
   "execution_count": 38,
   "id": "38c925ec",
   "metadata": {},
   "outputs": [
    {
     "data": {
      "text/html": [
       "<div>\n",
       "<style scoped>\n",
       "    .dataframe tbody tr th:only-of-type {\n",
       "        vertical-align: middle;\n",
       "    }\n",
       "\n",
       "    .dataframe tbody tr th {\n",
       "        vertical-align: top;\n",
       "    }\n",
       "\n",
       "    .dataframe thead th {\n",
       "        text-align: right;\n",
       "    }\n",
       "</style>\n",
       "<table border=\"1\" class=\"dataframe\">\n",
       "  <thead>\n",
       "    <tr style=\"text-align: right;\">\n",
       "      <th></th>\n",
       "      <th>Q3 Error 2</th>\n",
       "    </tr>\n",
       "  </thead>\n",
       "  <tbody>\n",
       "    <tr>\n",
       "      <th>24</th>\n",
       "      <td>-0.229943</td>\n",
       "    </tr>\n",
       "    <tr>\n",
       "      <th>43</th>\n",
       "      <td>0.182630</td>\n",
       "    </tr>\n",
       "    <tr>\n",
       "      <th>101</th>\n",
       "      <td>-0.177031</td>\n",
       "    </tr>\n",
       "    <tr>\n",
       "      <th>163</th>\n",
       "      <td>-0.078436</td>\n",
       "    </tr>\n",
       "    <tr>\n",
       "      <th>21</th>\n",
       "      <td>0.388667</td>\n",
       "    </tr>\n",
       "    <tr>\n",
       "      <th>...</th>\n",
       "      <td>...</td>\n",
       "    </tr>\n",
       "    <tr>\n",
       "      <th>113</th>\n",
       "      <td>0.095403</td>\n",
       "    </tr>\n",
       "    <tr>\n",
       "      <th>64</th>\n",
       "      <td>-0.133840</td>\n",
       "    </tr>\n",
       "    <tr>\n",
       "      <th>15</th>\n",
       "      <td>-0.281735</td>\n",
       "    </tr>\n",
       "    <tr>\n",
       "      <th>125</th>\n",
       "      <td>-0.232745</td>\n",
       "    </tr>\n",
       "    <tr>\n",
       "      <th>9</th>\n",
       "      <td>0.352124</td>\n",
       "    </tr>\n",
       "  </tbody>\n",
       "</table>\n",
       "<p>150 rows × 1 columns</p>\n",
       "</div>"
      ],
      "text/plain": [
       "     Q3 Error 2\n",
       "24    -0.229943\n",
       "43     0.182630\n",
       "101   -0.177031\n",
       "163   -0.078436\n",
       "21     0.388667\n",
       "..          ...\n",
       "113    0.095403\n",
       "64    -0.133840\n",
       "15    -0.281735\n",
       "125   -0.232745\n",
       "9      0.352124\n",
       "\n",
       "[150 rows x 1 columns]"
      ]
     },
     "metadata": {},
     "output_type": "display_data"
    },
    {
     "name": "stdout",
     "output_type": "stream",
     "text": [
      "4th Q3 r^2 :  0.9238935852366272\n"
     ]
    },
    {
     "data": {
      "image/png": "[encoded data removed]",
      "text/plain": [
       "<Figure size 432x288 with 1 Axes>"
      ]
     },
     "metadata": {
      "needs_background": "light"
     },
     "output_type": "display_data"
    }
   ],
   "source": [
    "#Same process as before\n",
    "q3_w4, q3_c4 = grad_descent(x_train, y_train, 0.01, 10000) \n",
    "q3_y_hat4 = predict(x_train, q3_w4[-1],)\n",
    "\n",
    "\n",
    "q3_error4 = q3_y_hat4 - y_train \n",
    "\n",
    "error_df4 = pd.DataFrame({'Q3 Error 2': q3_error4})\n",
    "display(error_df4)\n",
    "\n",
    "print(\"4th Q3 r^2 : \", r2_score(y_train,q3_y_hat4))\n",
    "\n",
    "plot_costs(q3_c4)"
   ]
  },
  {
   "cell_type": "markdown",
   "id": "635a2cda",
   "metadata": {},
   "source": [
    "Of the data that have been displayed for the past 4 cells, the graph is the most obvious in change. It shows that the more iterations occur, the lower the cost goes and the curve bends. This means that it also gets more accurate. Another way of showing accuracy is looking at the error and r&2 factors. The errors decrease while the r^2 scores increase, but they both cap at the 3rd example: using 1000 iterations, showing that a thousand iterations is suffice to get the values needed in the model."
   ]
  },
  {
   "cell_type": "markdown",
   "id": "84e2f75e",
   "metadata": {},
   "source": [
    "# Q.4"
   ]
  },
  {
   "cell_type": "code",
   "execution_count": 41,
   "id": "d4098148",
   "metadata": {},
   "outputs": [
    {
     "name": "stdout",
     "output_type": "stream",
     "text": [
      "The optimal number of iterations is:  2526\n"
     ]
    },
    {
     "data": {
      "image/png": "[encoded data removed]",
      "text/plain": [
       "<Figure size 1440x720 with 1 Axes>"
      ]
     },
     "metadata": {
      "needs_background": "light"
     },
     "output_type": "display_data"
    }
   ],
   "source": [
    "#array of learining rates in decreasing order\n",
    "learning_rates = [0.2, 0.1, 0.01, 0.001, 0.0001]\n",
    "\n",
    "#the ideal iteration is take from question 3, getting the index of the minimum cost\n",
    "ideal_iter = q3_c4.index(min(q3_c4))\n",
    "print(\"The optimal number of iterations is: \", ideal_iter)\n",
    "\n",
    "plt.figure(figsize=(20,10))\n",
    "\n",
    "#for loop for every element in learning_rates\n",
    "for i in learning_rates:\n",
    "    #performgradient descent\n",
    "    lrate_w, lrate_c = grad_descent(x_train, y_train, i, ideal_iter) \n",
    "    \n",
    "    #plot the current element's line\n",
    "    plt.plot(range(ideal_iter), lrate_c, label=i)\n",
    "\n",
    "plt.xlabel('Iterations')\n",
    "plt.ylabel('Cost')\n",
    "plt.legend()\n",
    "plt.show()"
   ]
  },
  {
   "cell_type": "markdown",
   "id": "57178134",
   "metadata": {},
   "source": [
    "As show on the graph: as the learning rates decrease, the less it is likely to lower the cost. The higher learning rates need lesser iterations to have a lower cost to use for accuracy."
   ]
  },
  {
   "cell_type": "markdown",
   "id": "bac0bdcf",
   "metadata": {},
   "source": [
    "# Q.5 "
   ]
  },
  {
   "cell_type": "markdown",
   "id": "e2a40c4d",
   "metadata": {},
   "source": [
    "The relationship shown between the learning rate and number of iterations is inversely proportional. As stated on the cell before, lesser iterations are needed as the learning rate increases."
   ]
  },
  {
   "cell_type": "markdown",
   "id": "a5c633cd",
   "metadata": {},
   "source": [
    "# Q.6"
   ]
  },
  {
   "cell_type": "code",
   "execution_count": 49,
   "id": "654e8a4e",
   "metadata": {},
   "outputs": [
    {
     "name": "stdout",
     "output_type": "stream",
     "text": [
      "Least Squares R^2: 0.9229500624245376\n",
      "Gradient Descent R^2: 0.9238935852366272\n"
     ]
    }
   ],
   "source": [
    "#initialize linereg algorithm\n",
    "linreg = LinearRegression()\n",
    "\n",
    "# fittingg the data\n",
    "linreg.fit(x_train, y_train)\n",
    "q6_y_hat1 = predict(x_train,linreg.coef_)\n",
    "\n",
    "#calculate r^2 score of Least Squares\n",
    "print(\"Least Squares R^2:\", r2_score(y_train, q6_y_hat1))\n",
    "\n",
    "# using gradient descent for Gradient Descent\n",
    "q6_w, q6_c = grad_descent(x_train, y_train, 0.01, ideal_iter) \n",
    "q6_y_hat2 = predict(x_train, q6_w[-1],)\n",
    "\n",
    "print(\"Gradient Descent R^2:\", r2_score(y_train, q6_y_hat2))\n"
   ]
  },
  {
   "cell_type": "markdown",
   "id": "58970822",
   "metadata": {},
   "source": [
    "Using SKLEARN to get the r^2 score via linear regression, we have the value of 0.9229. Gradient descent, on the other hand, is what we have been trying to solve this whole homework. The values, while not exact, are highly close to each other. This shows that either of the two algorithms,though using different processes, yields nearly the same results."
   ]
  }
 ],
 "metadata": {
  "kernelspec": {
   "display_name": "Python 3 (ipykernel)",
   "language": "python",
   "name": "python3"
  },
  "language_info": {
   "codemirror_mode": {
    "name": "ipython",
    "version": 3
   },
   "file_extension": ".py",
   "mimetype": "text/x-python",
   "name": "python",
   "nbconvert_exporter": "python",
   "pygments_lexer": "ipython3",
   "version": "3.9.12"
  }
 },
 "nbformat": 4,
 "nbformat_minor": 5
}
